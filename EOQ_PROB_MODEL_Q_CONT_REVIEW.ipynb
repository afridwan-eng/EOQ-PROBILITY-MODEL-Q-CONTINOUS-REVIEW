{
  "nbformat": 4,
  "nbformat_minor": 0,
  "metadata": {
    "colab": {
      "provenance": []
    },
    "kernelspec": {
      "name": "python3",
      "display_name": "Python 3"
    },
    "language_info": {
      "name": "python"
    }
  },
  "cells": [
    {
      "cell_type": "code",
      "source": [
        "# EOQ PROBILITY MODEL Q CONTINOUS REVIEW\n",
        "\n",
        "import numpy as np\n",
        "from scipy.stats import norm\n",
        "\n",
        "def calculate_inventory(D, A, h, Cu, l, S_d, S_l, tol=0.01, max_iter=100):\n",
        "    \"\"\"\n",
        "    Menghitung parameter model persediaan probabilistik menggunakan iterasi hingga r* konvergen.\n",
        "    \"\"\"\n",
        "    # Menghitung q_0^* awal (EOQ)\n",
        "    q_0_star = np.sqrt((2 * A * D) / h)\n",
        "    q_02_star = q_0_star  # Inisialisasi q_02^*\n",
        "\n",
        "    iterasi = 0\n",
        "    r_1_star = 0  # Nilai awal reorder point\n",
        "    SS_final = 0  # Inisialisasi safety stock\n",
        "\n",
        "    while iterasi < max_iter:\n",
        "        # 1. Menghitung kembali α berdasarkan q_02^*\n",
        "        alpha = 1 - (h * q_02_star) / (Cu * D)\n",
        "\n",
        "        # 2. Menghitung kembali Z_α\n",
        "        Z_alpha = abs(norm.ppf(1 - alpha))\n",
        "\n",
        "        # 3. Menghitung standar deviasi permintaan selama lead time (S_dl)\n",
        "        S_dl = np.sqrt((D / 12) ** 2 * S_l ** 2 + (l * S_d ** 2))\n",
        "\n",
        "        # 4. Menghitung fungsi distribusi normal f(Z_alpha) dan ψ(Z_alpha)\n",
        "        f_Z_alpha = norm.pdf(Z_alpha)\n",
        "        psi_Z_alpha = 1 - norm.cdf(Z_alpha)\n",
        "\n",
        "        # 5. Menghitung N\n",
        "        N = S_dl * (f_Z_alpha - Z_alpha * psi_Z_alpha)\n",
        "\n",
        "        # 6. Menghitung q_02^* yang baru\n",
        "        q_02_star_new = np.sqrt((2 * D * (A + Cu * N)) / h)\n",
        "\n",
        "        # 7. Menghitung safety stock (SS)\n",
        "        SS_final = Z_alpha * S_dl\n",
        "\n",
        "        # 8. Menghitung reorder point r_2^*\n",
        "        d = D / 12  # Permintaan rata-rata bulanan\n",
        "        r_2_star = (d * l) + SS_final\n",
        "\n",
        "        # 9. Periksa konvergensi\n",
        "        if abs(r_2_star - r_1_star) < tol and abs(q_02_star_new - q_02_star) < tol:\n",
        "            q_0_star = q_02_star_new  # Set q_0^* setelah iterasi konvergen\n",
        "            N_final = N  # Simpan nilai N setelah iterasi konvergen\n",
        "            break\n",
        "\n",
        "        # 10. Perbarui nilai untuk iterasi selanjutnya\n",
        "        q_02_star = q_02_star_new\n",
        "        r_1_star = r_2_star\n",
        "        iterasi += 1\n",
        "\n",
        "    return q_0_star, r_2_star, SS_final, iterasi\n",
        "\n",
        "# Parameter dari dokumen\n",
        "D = 672  # Permintaan tahunan di 2025 hasil arima\n",
        "A = 750000  # Biaya pemesanan\n",
        "h = 550900  # Biaya penyimpanan\n",
        "Cu = 230000  # Biaya kekurangan\n",
        "l = 1.87  # Lead time rata-rata (bulan)\n",
        "S_d = 4.58  # Standar deviasi permintaan bulanan\n",
        "S_l = 1.74  # Standar deviasi lead time (bulan)\n",
        "\n",
        "# Menjalankan perhitungan\n",
        "q_0_star, r_star, SS_final, iterasi = calculate_inventory(D, A, h, Cu, l, S_d, S_l)\n",
        "\n",
        "# Menampilkan hasil akhir\n",
        "print(f\"Ukuran lot pemesanan optimal (q_0^*): {q_0_star:.2f} unit\")\n",
        "print(f\"Reorder point (r^*): {r_star:.2f} unit\")\n",
        "print(f\"Safety Stock (SS): {SS_final:.2f} unit\")\n",
        "print(f\"Jumlah iterasi: {iterasi}\")\n"
      ],
      "metadata": {
        "colab": {
          "base_uri": "https://localhost:8080/"
        },
        "id": "ypJk9tjVzwIH",
        "outputId": "e027ca89-9f59-4af2-d763-b5fa39981354"
      },
      "execution_count": null,
      "outputs": [
        {
          "output_type": "stream",
          "name": "stdout",
          "text": [
            "Ukuran lot pemesanan optimal (q_0^*): 147.90 unit\n",
            "Reorder point (r^*): 111.36 unit\n",
            "Safety Stock (SS): 6.64 unit\n",
            "Jumlah iterasi: 32\n"
          ]
        }
      ]
    }
  ]
}